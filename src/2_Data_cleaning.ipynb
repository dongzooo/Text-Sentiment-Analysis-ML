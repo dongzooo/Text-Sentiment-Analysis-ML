{
  "cells": [
    {
      "cell_type": "markdown",
      "metadata": {
        "id": "view-in-github",
        "colab_type": "text"
      },
      "source": [
        "<a href=\"https://colab.research.google.com/github/dongzooo/Text-Sentiment-Analysis-ML/blob/main/2_Data_cleaning.ipynb\" target=\"_parent\"><img src=\"https://colab.research.google.com/assets/colab-badge.svg\" alt=\"Open In Colab\"/></a>"
      ]
    },
    {
      "cell_type": "markdown",
      "metadata": {
        "id": "d9vtTwccd6G3"
      },
      "source": [
        "## 크롤링한 데이터 맞춤법 검사(hanspell 페키지)"
      ]
    },
    {
      "cell_type": "code",
      "execution_count": null,
      "metadata": {
        "id": "RSYazfLld6G8"
      },
      "outputs": [],
      "source": [
        "import pandas as pd\n",
        "import requests\n",
        "from hanspell import spell_checker\n",
        "df = pd.read_csv('학습데이터(맞춤법 검사 전).csv', encoding = 'utf-8',header=None)"
      ]
    },
    {
      "cell_type": "code",
      "execution_count": null,
      "metadata": {
        "id": "zsplMfKfd6G-",
        "outputId": "816ded03-c303-4c88-8de6-87e139d6ee28"
      },
      "outputs": [
        {
          "data": {
            "text/html": [
              "<div>\n",
              "<style scoped>\n",
              "    .dataframe tbody tr th:only-of-type {\n",
              "        vertical-align: middle;\n",
              "    }\n",
              "\n",
              "    .dataframe tbody tr th {\n",
              "        vertical-align: top;\n",
              "    }\n",
              "\n",
              "    .dataframe thead th {\n",
              "        text-align: right;\n",
              "    }\n",
              "</style>\n",
              "<table border=\"1\" class=\"dataframe\">\n",
              "  <thead>\n",
              "    <tr style=\"text-align: right;\">\n",
              "      <th></th>\n",
              "      <th>0</th>\n",
              "      <th>1</th>\n",
              "    </tr>\n",
              "  </thead>\n",
              "  <tbody>\n",
              "    <tr>\n",
              "      <th>0</th>\n",
              "      <td>0</td>\n",
              "      <td>진짜 재밌어요 추천합니당  죄와 벌하고 연관이 되어 있는 인과 연은솔직히 말해서 명...</td>\n",
              "    </tr>\n",
              "    <tr>\n",
              "      <th>1</th>\n",
              "      <td>0</td>\n",
              "      <td>퀄리티가 장난 아니게 좋았어요  진짜 재밌는데 왜 그렇게 까내리는지 모르겟음 ㅠㅠ ...</td>\n",
              "    </tr>\n",
              "    <tr>\n",
              "      <th>2</th>\n",
              "      <td>0</td>\n",
              "      <td>잼나요 이정도면 ㅋㅋ 딱 보기 좋아요</td>\n",
              "    </tr>\n",
              "    <tr>\n",
              "      <th>3</th>\n",
              "      <td>0</td>\n",
              "      <td>2시간 37분 지겹지않게 봤어요  인랑보다는 재미있습니다 솔직한 평임 미션도 엄청재...</td>\n",
              "    </tr>\n",
              "    <tr>\n",
              "      <th>4</th>\n",
              "      <td>0</td>\n",
              "      <td>1편보다 그이상 짜임새도있고 재미도 뛰어난 한국영화 정말 오랜만입니다  처음부터 끝...</td>\n",
              "    </tr>\n",
              "  </tbody>\n",
              "</table>\n",
              "</div>"
            ],
            "text/plain": [
              "   0                                                  1\n",
              "0  0  진짜 재밌어요 추천합니당  죄와 벌하고 연관이 되어 있는 인과 연은솔직히 말해서 명...\n",
              "1  0  퀄리티가 장난 아니게 좋았어요  진짜 재밌는데 왜 그렇게 까내리는지 모르겟음 ㅠㅠ ...\n",
              "2  0                             잼나요 이정도면 ㅋㅋ 딱 보기 좋아요  \n",
              "3  0  2시간 37분 지겹지않게 봤어요  인랑보다는 재미있습니다 솔직한 평임 미션도 엄청재...\n",
              "4  0  1편보다 그이상 짜임새도있고 재미도 뛰어난 한국영화 정말 오랜만입니다  처음부터 끝..."
            ]
          },
          "execution_count": 2,
          "metadata": {},
          "output_type": "execute_result"
        }
      ],
      "source": [
        "df.head()"
      ]
    },
    {
      "cell_type": "code",
      "execution_count": null,
      "metadata": {
        "id": "_OEb2Fxxd6G_"
      },
      "outputs": [],
      "source": [
        "# 맞춤법 검사 완료된 문장을 넣을 리스트\n",
        "temp_list = []"
      ]
    },
    {
      "cell_type": "code",
      "execution_count": null,
      "metadata": {
        "id": "g_enHj-Vd6HA"
      },
      "outputs": [],
      "source": [
        "# 한행씩 맞춤법 검사\n",
        "for i in range(0,2400):\n",
        "    sent = df[1][i]\n",
        "    spelled_sent = spell_checker.check(sent)\n",
        "    hanspell_sent = spelled_sent.checked\n",
        "    temp_list.append(hanspell_sent)"
      ]
    },
    {
      "cell_type": "code",
      "execution_count": null,
      "metadata": {
        "id": "n7I2yc_Ed6HB"
      },
      "outputs": [],
      "source": [
        "#검사한 결과 csv 파일로 저장\n",
        "df_result = pd.DataFrame(temp_list)"
      ]
    },
    {
      "cell_type": "code",
      "execution_count": null,
      "metadata": {
        "id": "OcQKbJ6Td6HB",
        "outputId": "dca3a8e1-950a-4f76-9163-10c1afee4bad"
      },
      "outputs": [
        {
          "data": {
            "text/html": [
              "<div>\n",
              "<style scoped>\n",
              "    .dataframe tbody tr th:only-of-type {\n",
              "        vertical-align: middle;\n",
              "    }\n",
              "\n",
              "    .dataframe tbody tr th {\n",
              "        vertical-align: top;\n",
              "    }\n",
              "\n",
              "    .dataframe thead th {\n",
              "        text-align: right;\n",
              "    }\n",
              "</style>\n",
              "<table border=\"1\" class=\"dataframe\">\n",
              "  <thead>\n",
              "    <tr style=\"text-align: right;\">\n",
              "      <th></th>\n",
              "      <th>0</th>\n",
              "    </tr>\n",
              "  </thead>\n",
              "  <tbody>\n",
              "    <tr>\n",
              "      <th>0</th>\n",
              "      <td>진짜 재밌어요 추천합니다  죄와 벌하고 연관이 되어 있는 인과 연은 솔직히 말해서 ...</td>\n",
              "    </tr>\n",
              "    <tr>\n",
              "      <th>1</th>\n",
              "      <td>퀄리티가 장난 아니게 좋았어요  진짜 재밌는데 왜 그렇게 까 내리는지 모르겠음 ㅠㅠ...</td>\n",
              "    </tr>\n",
              "    <tr>\n",
              "      <th>2</th>\n",
              "      <td>재미나요 이 정도면 ㅋㅋ 딱 보기 좋아요</td>\n",
              "    </tr>\n",
              "    <tr>\n",
              "      <th>3</th>\n",
              "      <td>2시간 37분 지겹지 않게 봤어요  이랑보다는 재미있습니다 솔직한 평임 미션도 엄청...</td>\n",
              "    </tr>\n",
              "    <tr>\n",
              "      <th>4</th>\n",
              "      <td>1편보다 그 이상 짜임새도 있고 재미도 뛰어난 한국 영화 정말 오랜만입니다  처음부...</td>\n",
              "    </tr>\n",
              "  </tbody>\n",
              "</table>\n",
              "</div>"
            ],
            "text/plain": [
              "                                                   0\n",
              "0  진짜 재밌어요 추천합니다  죄와 벌하고 연관이 되어 있는 인과 연은 솔직히 말해서 ...\n",
              "1  퀄리티가 장난 아니게 좋았어요  진짜 재밌는데 왜 그렇게 까 내리는지 모르겠음 ㅠㅠ...\n",
              "2                           재미나요 이 정도면 ㅋㅋ 딱 보기 좋아요  \n",
              "3  2시간 37분 지겹지 않게 봤어요  이랑보다는 재미있습니다 솔직한 평임 미션도 엄청...\n",
              "4  1편보다 그 이상 짜임새도 있고 재미도 뛰어난 한국 영화 정말 오랜만입니다  처음부..."
            ]
          },
          "execution_count": 25,
          "metadata": {},
          "output_type": "execute_result"
        }
      ],
      "source": [
        "df_result.head()"
      ]
    },
    {
      "cell_type": "code",
      "execution_count": null,
      "metadata": {
        "id": "mYCqBuuhd6HC"
      },
      "outputs": [],
      "source": [
        "#맞춤법 검사완료 데이터 저장\n",
        "df_result.to_csv('학습데이터(맞춤법 검사 완료).csv', encoding = 'utf-8',header=None)"
      ]
    },
    {
      "cell_type": "code",
      "execution_count": null,
      "metadata": {
        "id": "irqPkayKd6HD"
      },
      "outputs": [],
      "source": [
        "# 데이터 확인\n",
        "df = pd.read_csv('학습데이터(맞춤법 검사 완료).csv', encoding = 'utf-8',header=None)\n",
        "df.head()"
      ]
    }
  ],
  "metadata": {
    "kernelspec": {
      "display_name": "Python 3",
      "language": "python",
      "name": "python3"
    },
    "language_info": {
      "codemirror_mode": {
        "name": "ipython",
        "version": 3
      },
      "file_extension": ".py",
      "mimetype": "text/x-python",
      "name": "python",
      "nbconvert_exporter": "python",
      "pygments_lexer": "ipython3",
      "version": "3.7.3"
    },
    "colab": {
      "name": "2_Data cleaning.ipynb",
      "provenance": [],
      "collapsed_sections": [],
      "include_colab_link": true
    }
  },
  "nbformat": 4,
  "nbformat_minor": 0
}
